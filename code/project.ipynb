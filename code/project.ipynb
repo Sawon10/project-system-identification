{
 "cells": [
  {
   "cell_type": "code",
   "execution_count": 20,
   "id": "9e1ee91d",
   "metadata": {},
   "outputs": [],
   "source": [
    "import numpy as np\n",
    "import pandas as pd\n",
    "import matplotlib.pyplot as plt\n",
    "import pysindy as ps\n",
    "import os"
   ]
  },
  {
   "cell_type": "code",
   "execution_count": 28,
   "id": "ddab72b3",
   "metadata": {},
   "outputs": [],
   "source": [
    "file_loc = \"C:/Users/SAWON/OneDrive/Desktop/data\"\n",
    "file_list = os.listdir(file_loc)\n",
    "\n",
    "#Looping through the files and importing the xlsx files#\n",
    "count = 1\n",
    "for file in file_list:\n",
    "    if file.endswith(\".xlsx\"):\n",
    "        raw_data = pd.read_excel(file_loc+\"/\"+file)"
   ]
  },
  {
   "cell_type": "code",
   "execution_count": 19,
   "id": "966c6121",
   "metadata": {},
   "outputs": [
    {
     "data": {
      "text/plain": [
       "Index(['Unnamed: 0', 'Result X', 'Smoothed result Y', 'Unnamed: 3',\n",
       "       'Result X.1', 'Smoothed result Y.1', 'Unnamed: 6', 'Result X.2',\n",
       "       'Smoothed result Y.2', 'Unnamed: 9', 'Result X.3',\n",
       "       'Smoothed result Y.3', 'Unnamed: 12', 'Result X.4',\n",
       "       'Smoothed result Y.4', 'Unnamed: 15', 'Result X.5',\n",
       "       'Smoothed result Y.5'],\n",
       "      dtype='object')"
      ]
     },
     "execution_count": 19,
     "metadata": {},
     "output_type": "execute_result"
    }
   ],
   "source": [
    "data_x_1.columns"
   ]
  },
  {
   "cell_type": "code",
   "execution_count": null,
   "id": "58b14658",
   "metadata": {},
   "outputs": [],
   "source": []
  }
 ],
 "metadata": {
  "kernelspec": {
   "display_name": "Python 3 (ipykernel)",
   "language": "python",
   "name": "python3"
  },
  "language_info": {
   "codemirror_mode": {
    "name": "ipython",
    "version": 3
   },
   "file_extension": ".py",
   "mimetype": "text/x-python",
   "name": "python",
   "nbconvert_exporter": "python",
   "pygments_lexer": "ipython3",
   "version": "3.10.9"
  }
 },
 "nbformat": 4,
 "nbformat_minor": 5
}
