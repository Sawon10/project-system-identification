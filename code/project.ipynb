{
 "cells": [
  {
   "cell_type": "code",
   "execution_count": 33,
   "id": "9e1ee91d",
   "metadata": {},
   "outputs": [],
   "source": [
    "import numpy as np\n",
    "import pandas as pd\n",
    "import matplotlib.pyplot as plt\n",
    "import pysindy as ps\n",
    "import os"
   ]
  },
  {
   "cell_type": "code",
   "execution_count": 41,
   "id": "0faa427b",
   "metadata": {},
   "outputs": [],
   "source": [
    "#Filtering the columns from raw data#\n",
    "def data_column_filter_by_col_name(raw_data, num):\n",
    "    col_name_list = list(raw_data.columns)\n",
    "    reqd_col_names = list(filter(lambda x : \"Smoothed result\" in x , col_name_list))\n",
    "    #plotting the data for each xl#\n",
    "    plt.figure(num)\n",
    "    plt.plot(raw_data[reqd_col_names])\n",
    "    plt.close()\n",
    "    return raw_data[reqd_col_names]"
   ]
  },
  {
   "cell_type": "code",
   "execution_count": 43,
   "id": "ddab72b3",
   "metadata": {},
   "outputs": [],
   "source": [
    "file_loc = \"C:/Users/SAWON/OneDrive/Desktop/data\"\n",
    "file_list = os.listdir(file_loc)\n",
    "data_dict = dict()\n",
    "#Looping through the files and importing the xlsx files#\n",
    "count = 1\n",
    "for file in file_list:\n",
    "    if file.endswith(\".xlsx\"):\n",
    "        raw_data = pd.read_excel(file_loc+\"/\"+file)\n",
    "        actual_data = data_column_filter_by_col_name(raw_data , count)\n",
    "        count += 1\n",
    "        data_dict[file] = actual_data"
   ]
  },
  {
   "cell_type": "code",
   "execution_count": 32,
   "id": "966c6121",
   "metadata": {},
   "outputs": [
    {
     "name": "stdout",
     "output_type": "stream",
     "text": [
      "['my_ACN(Acetate_5).xlsx', 'my_ACN(Acetate_6).xlsx', 'my_ACN(Acetate_7).xlsx', 'my_ACN(Citrate_5).xlsx', 'my_ACN(Citrate_6).xlsx', 'my_ACN(Citrate_7).xlsx', 'my_ACN(PBS_5).xlsx', 'my_ACN(PBS_6).xlsx', 'my_ACN(PBS_7).xlsx', 'my_ACRYL(ABS5).xlsx', 'my_ACRYL(ABS6).xlsx', 'my_ACRYL(ABS7).xlsx', 'my_ACRYL(CBS5).xlsx', 'my_ACRYL(CBS6).xlsx', 'my_ACRYL(CBS7).xlsx', 'my_ACRYL(PBS5).xlsx', 'my_ACRYL(PBS6).xlsx', 'my_ACRYL(PBS7).xlsx', 'my_MAA(PBS_5).xlsx', 'my_MAA(PBS_6).xlsx', 'my_MAA(PBS_7).xlsx']\n"
     ]
    },
    {
     "data": {
      "text/html": [
       "<div>\n",
       "<style scoped>\n",
       "    .dataframe tbody tr th:only-of-type {\n",
       "        vertical-align: middle;\n",
       "    }\n",
       "\n",
       "    .dataframe tbody tr th {\n",
       "        vertical-align: top;\n",
       "    }\n",
       "\n",
       "    .dataframe thead th {\n",
       "        text-align: right;\n",
       "    }\n",
       "</style>\n",
       "<table border=\"1\" class=\"dataframe\">\n",
       "  <thead>\n",
       "    <tr style=\"text-align: right;\">\n",
       "      <th></th>\n",
       "    </tr>\n",
       "  </thead>\n",
       "  <tbody>\n",
       "    <tr>\n",
       "      <th>0</th>\n",
       "    </tr>\n",
       "    <tr>\n",
       "      <th>1</th>\n",
       "    </tr>\n",
       "    <tr>\n",
       "      <th>2</th>\n",
       "    </tr>\n",
       "    <tr>\n",
       "      <th>3</th>\n",
       "    </tr>\n",
       "    <tr>\n",
       "      <th>4</th>\n",
       "    </tr>\n",
       "    <tr>\n",
       "      <th>...</th>\n",
       "    </tr>\n",
       "    <tr>\n",
       "      <th>3686</th>\n",
       "    </tr>\n",
       "    <tr>\n",
       "      <th>3687</th>\n",
       "    </tr>\n",
       "    <tr>\n",
       "      <th>3688</th>\n",
       "    </tr>\n",
       "    <tr>\n",
       "      <th>3689</th>\n",
       "    </tr>\n",
       "    <tr>\n",
       "      <th>3690</th>\n",
       "    </tr>\n",
       "  </tbody>\n",
       "</table>\n",
       "<p>3691 rows × 0 columns</p>\n",
       "</div>"
      ],
      "text/plain": [
       "Empty DataFrame\n",
       "Columns: []\n",
       "Index: [0, 1, 2, 3, 4, 5, 6, 7, 8, 9, 10, 11, 12, 13, 14, 15, 16, 17, 18, 19, 20, 21, 22, 23, 24, 25, 26, 27, 28, 29, 30, 31, 32, 33, 34, 35, 36, 37, 38, 39, 40, 41, 42, 43, 44, 45, 46, 47, 48, 49, 50, 51, 52, 53, 54, 55, 56, 57, 58, 59, 60, 61, 62, 63, 64, 65, 66, 67, 68, 69, 70, 71, 72, 73, 74, 75, 76, 77, 78, 79, 80, 81, 82, 83, 84, 85, 86, 87, 88, 89, 90, 91, 92, 93, 94, 95, 96, 97, 98, 99, ...]\n",
       "\n",
       "[3691 rows x 0 columns]"
      ]
     },
     "execution_count": 32,
     "metadata": {},
     "output_type": "execute_result"
    }
   ],
   "source": [
    "print(list(data_dict.keys()))\n",
    "data_dict['my_ACN(Acetate_5).xlsx']"
   ]
  },
  {
   "cell_type": "code",
   "execution_count": null,
   "id": "58b14658",
   "metadata": {},
   "outputs": [],
   "source": []
  }
 ],
 "metadata": {
  "kernelspec": {
   "display_name": "Python 3 (ipykernel)",
   "language": "python",
   "name": "python3"
  },
  "language_info": {
   "codemirror_mode": {
    "name": "ipython",
    "version": 3
   },
   "file_extension": ".py",
   "mimetype": "text/x-python",
   "name": "python",
   "nbconvert_exporter": "python",
   "pygments_lexer": "ipython3",
   "version": "3.10.9"
  }
 },
 "nbformat": 4,
 "nbformat_minor": 5
}
